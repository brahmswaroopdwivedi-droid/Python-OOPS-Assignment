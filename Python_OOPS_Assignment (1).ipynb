{
  "nbformat": 4,
  "nbformat_minor": 0,
  "metadata": {
    "colab": {
      "provenance": []
    },
    "kernelspec": {
      "name": "python3",
      "display_name": "Python 3"
    },
    "language_info": {
      "name": "python"
    }
  },
  "cells": [
    {
      "cell_type": "markdown",
      "source": [
        "#Python OOP's Questions"
      ],
      "metadata": {
        "id": "derqMTaRJVUN"
      }
    },
    {
      "cell_type": "markdown",
      "source": [
        "1. What is Object-Oriented Programming (OOP)?\n",
        "  - Object-Oriented Programming(OOP) is a programming model that organizes software design around the real-world \"object\" and \"classes\".\n",
        "2. What is a class in OOP?\n",
        "  - Classes are blueprint/tempelate for creating an object.\n",
        "    Example- gujiya maker, thekua maker.\n",
        "3. What is an object in OOP?\n",
        "  - An Object is an instance of a class it represents a specific implementation of the class and holds its own data.\n",
        "4. What is the difference between abstraction and encapsulation?\n",
        "  -Abstraction hides complexity, encapsulation hides data and methods.\n",
        "5. What are dunder methods in Python?\n",
        "  - Dunder methods(short for \"double underscore methods\") are special methods in python that have double underscores at the beginning and end of their names (e.g._init_, _str_)\n",
        "6. Explain the concept of inheritance in OOP.\n",
        "  - Inheritance lets a  class inherit the properties and methods from another class.\n",
        "7. What is polymorphism in OOP?\n",
        "  - Polymorphism in OOP lets methods behave differently based on the object they are acting upon. One interface,many behaviours.\n",
        "8. How is encapsulation achieved in Python?\n",
        "  - Use single underscore for protected and double underscore for private members.\n",
        "9. What is a constructor in Python?\n",
        "  - The __init__ method acts as the constructor its a special method automatically called when a new object of a class is created.\n",
        "10. What are class and static methods in Python?\n",
        "  - Class methods : Defined using @classmethod, they take the class as the first argument(cls).They are used for methods that operate on the class itself.                                                                 \n",
        "     Static methods: Defined using @staticmethod, they don't take any implicit arguments (self or cls). They are like regular functions but belong to the class's namespace.\n",
        "11. What is method overloading in Python?\n",
        "  - Method overloading in Python is not supported like in some other languages.Instead you can use default argument values or variable arguments(*args,**kwargs) to acheive similar behaviour.\n",
        "12. What is method overriding in OOP?\n",
        "  - Method overriding is a rewriting/redefining methods of parent class in derived/child class.\n",
        "  * Method overriding happened between two class.\n",
        "13. What is a property decorator in Python?\n",
        "  - The property decorator in python define getter,setter and delter methods of attributes. It allows you to control access to instance attributes and add logic when getting or setting them.\n",
        "14. Why is polymorphism important in OOP?\n",
        "  - Polymorphism is important in OOP because it promotes flexibility,generic code, extensibility and code reusability.\n",
        "15. What is an abstract class in Python?\n",
        "  - It is typically created to declare a set of methods that must be created in any child class built on top of this abstract class.\n",
        "16. What are the advantages of OOP?\n",
        "  - The main advantage of OOP in Python include improved code organization through encapsulation,reusability via inheritance,flexibility with polymorphism and simplification of complex systems through abstraction.\n",
        "17. What is the difference between a class variable and an instance variable?\n",
        "  - Class variable defined directly within the class body, outside of any methods but instance variable defined within instance methods, typically within the __init__ method, using the self keyword.\n",
        "18. What is multiple inheritance in Python?\n",
        "  - A class can be derived from more than one superclass in Python.\n",
        "19. Explain the purpose of ‘’__str__’ and ‘__repr__’ ‘ methods in Python.\n",
        "  - __str__ : Returns a user_friendly string representation of the object.\n",
        "   __repr__ : Returns a string that could be used to recreate the object.\n",
        "20. What is the significance of the ‘super()’ function in Python?\n",
        "  - Super() function is used to call methods of a parent class in inheritance.\n",
        "21. What is the significance of the __del__ method in Python?\n",
        "  - The __del__ method is a destructor called when an object is about to be destroyed.\n",
        "22. What is the difference between @staticmethod and @classmethod in Python?\n",
        "  - @staticmethod:It does'not take implicit arguments (self or cls).            \n",
        "   @classmethod:It take the class (cls) as the first argument.\n",
        "23. How does polymorphism work in Python with inheritance?\n",
        "  - Polymorphism with inheritance in Python allows methods to behave differently based on the object, even if they are called through a parent class reference.\n",
        "24. What is method chaining in Python OOP?\n",
        "  - Method chaining allows calling multiple methods of an object in a single statement by returning self.\n",
        "25. What is the purpose of the __call__ method in Python?\n",
        "  - The __call__ method makes instances of a class callable like functions.\n",
        "\n",
        "\n"
      ],
      "metadata": {
        "id": "4GlfhCzCJ7Nm"
      }
    },
    {
      "cell_type": "markdown",
      "source": [
        "#Practical Questions"
      ],
      "metadata": {
        "id": "zrVkg1Q1Yuq0"
      }
    },
    {
      "cell_type": "code",
      "source": [
        "#1. Create a parent class Animal with a method speak() that prints a generic message. Create a child class Dog that overrides the speak() method to print \"Bark!\".\n",
        "class Animal:\n",
        "  def speak(self):\n",
        "    print(\"Generic message\")\n",
        "    class Dog(Animal):\n",
        "      def speak(self):\n",
        "        print(\"Bark!\")\n"
      ],
      "metadata": {
        "id": "bgya0PJFSeZM"
      },
      "execution_count": null,
      "outputs": []
    },
    {
      "cell_type": "code",
      "source": [
        "#Example\n",
        "animal=Animal()\n",
        "animal.speak()"
      ],
      "metadata": {
        "colab": {
          "base_uri": "https://localhost:8080/"
        },
        "id": "YxE-u6mJ9dS5",
        "outputId": "912d993c-dd14-4426-f506-096e1b90e2d9"
      },
      "execution_count": null,
      "outputs": [
        {
          "output_type": "stream",
          "name": "stdout",
          "text": [
            "Generic animal sound\n"
          ]
        }
      ]
    },
    {
      "cell_type": "code",
      "source": [
        "dog=Dog()\n",
        "dog.speak()"
      ],
      "metadata": {
        "colab": {
          "base_uri": "https://localhost:8080/"
        },
        "id": "oquZiQwK-Ntt",
        "outputId": "e5276b72-d73c-4323-d478-2a7dfcd72bec"
      },
      "execution_count": null,
      "outputs": [
        {
          "output_type": "stream",
          "name": "stdout",
          "text": [
            "Bark!\n"
          ]
        }
      ]
    },
    {
      "cell_type": "code",
      "source": [
        "#2. Write a program to create an abstract class Shape with a method area(). Derive classes Circle and Rectangle from it and implement the area() method in both.\n",
        "from abc import ABC,abstractmethod\n",
        "class Shape(ABC):\n",
        "  @abstractmethod\n",
        "  def area(self):\n",
        "    pass\n",
        "\n",
        "class Circle(Shape):\n",
        "   def __init__(self,radius):\n",
        "      self.radius=radius\n",
        "\n",
        "   def area(self):\n",
        "      return 3.14*self.radius**2\n",
        "\n",
        "class Rectangle(Shape):\n",
        "   def __init__(self,length,width):\n",
        "      self.length=length\n",
        "      self.width=width\n",
        "\n",
        "   def area(self):\n",
        "    return self.length*self.width\n",
        "# Example\n",
        "circle=Circle(5)\n",
        "print(circle.area())\n",
        "rectangle=Rectangle(4,6)\n",
        "print(rectangle.area())"
      ],
      "metadata": {
        "id": "XDu2zyxlS7H3",
        "colab": {
          "base_uri": "https://localhost:8080/"
        },
        "outputId": "593eb006-8052-4ea8-9b20-fe658e1dd109"
      },
      "execution_count": null,
      "outputs": [
        {
          "output_type": "stream",
          "name": "stdout",
          "text": [
            "78.5\n",
            "24\n"
          ]
        }
      ]
    },
    {
      "cell_type": "code",
      "source": [
        "#3. Implement a multi-level inheritance scenario where a class Vehicle has an attribute type. Derive a class Car and further derive a class ElectricCar that adds a battery attribute.\n",
        "class Vehicle:\n",
        "  def __init__(self,type):\n",
        "    self.type=type\n",
        "class Car(Vehicle):\n",
        "  def __init__(self,type,model):\n",
        "    super().__init__(type)\n",
        "    self.model=model\n",
        "\n",
        "class ElectricCar(Car):\n",
        "    def __init__(self,type,model,battery):\n",
        "      super().__init__(type,model)\n",
        "      self.battery=battery\n",
        "# Example:\n",
        "ecar=ElectricCar(\"Electric\",\"Tesla\",\"lithium-ion\")\n",
        "print(ecar.type,ecar.model,ecar.battery)\n"
      ],
      "metadata": {
        "id": "gutBY9CwTKJg",
        "colab": {
          "base_uri": "https://localhost:8080/"
        },
        "outputId": "d5ba1787-7caf-4beb-cc04-8b7faf5be00c"
      },
      "execution_count": null,
      "outputs": [
        {
          "output_type": "stream",
          "name": "stdout",
          "text": [
            "Electric Tesla lithium-ion\n"
          ]
        }
      ]
    },
    {
      "cell_type": "code",
      "source": [
        "#4. Demonstrate polymorphism by creating a base class Bird with a method fly(). Create two derived classes Sparrow and Penguin that override the fly() method.\n",
        "class Bird:\n",
        "  def fly(self):\n",
        "    print(\"Birds can fly\")\n",
        "class Sparrow(Bird):\n",
        "  def fly(self):\n",
        "    print(\"Sparrows can fly\")\n",
        "class Penguin(Bird):\n",
        "  def fly(self):\n",
        "    print(\"Penguins cannot fly\")\n",
        "# Example:\n",
        "birds=[Sparrow(),Penguin()]\n",
        "for bird in birds:\n",
        "  bird.fly()"
      ],
      "metadata": {
        "id": "a-mwJvV9TmPa",
        "colab": {
          "base_uri": "https://localhost:8080/"
        },
        "outputId": "b167fba8-a75b-42d5-a3c2-9f9c920e6d56"
      },
      "execution_count": null,
      "outputs": [
        {
          "output_type": "stream",
          "name": "stdout",
          "text": [
            "Sparrows can fly\n",
            "Penguins cannot fly\n"
          ]
        }
      ]
    },
    {
      "cell_type": "code",
      "source": [
        "#5. Write a program to demonstrate encapsulation by creating a class BankAccount with private attributes balance and methods to deposit, withdraw, and check balance.\n",
        "class BankAccount:\n",
        "  def __init__(self,balance=0):\n",
        "    self.__balance=balance\n",
        "  def deposit(self,amount):\n",
        "      self.__balance+=amount\n",
        "      print(f\"Deposited {amount}. New balance:{self.__balance}\")\n",
        "  def withdraw(self,amount):\n",
        "      if amount<=self.__balance:\n",
        "        self.__balance-=amount\n",
        "        print(f\"Withdrew {amount}. New balance:{self.__balance}\")\n",
        "      else:\n",
        "        print(\"Insufficient balance\")\n",
        "  def check_balance(self):\n",
        "   print(f\"Current balance:{self.__balance}\")\n",
        "# Example:\n",
        "account=BankAccount(1000)\n",
        "account.deposit(500)\n",
        "account.withdraw(200)\n",
        "account.check_balance()"
      ],
      "metadata": {
        "id": "ll7Fi54kTzX7",
        "colab": {
          "base_uri": "https://localhost:8080/"
        },
        "outputId": "651fafe0-11eb-48bf-abf8-0706bf7b37ad"
      },
      "execution_count": null,
      "outputs": [
        {
          "output_type": "stream",
          "name": "stdout",
          "text": [
            "Deposited 500. New balance:1500\n",
            "Withdrew 200. New balance:1300\n",
            "Current balance:1300\n"
          ]
        }
      ]
    },
    {
      "cell_type": "code",
      "source": [
        "#6. Demonstrate runtime polymorphism using a method play() in a base class Instrument. Derive classes Guitar and Piano that implement their own version of play().\n",
        "class Instrument:\n",
        "  def play(self):\n",
        "    pass\n",
        "class Guitar(Instrument):\n",
        "  def play(self):\n",
        "    print(\"Guitar is playing\")\n",
        "class Piano(Instrument):\n",
        "  def play(self):\n",
        "    print(\"Piano is playing\")\n",
        "# Example:\n",
        "instruments=[Guitar(),Piano()]\n",
        "for instrument in instruments:\n",
        "  instrument.play()"
      ],
      "metadata": {
        "id": "W7Si4GAIT-uR",
        "colab": {
          "base_uri": "https://localhost:8080/"
        },
        "outputId": "12e1c45e-274f-47f9-9fb5-1afce7ee8d55"
      },
      "execution_count": null,
      "outputs": [
        {
          "output_type": "stream",
          "name": "stdout",
          "text": [
            "Guitar is playing\n",
            "Piano is playing\n"
          ]
        }
      ]
    },
    {
      "cell_type": "code",
      "source": [
        "#7. Create a class MathOperations with a class method add_numbers() to add two numbers and a static method subtract_numbers() to subtract two numbers.\n",
        "class MathOperations:\n",
        "  def add_numbers(self,a,b):\n",
        "    return a+b\n",
        "\n",
        "  @staticmethod\n",
        "  def subtract_numbers(a,b):\n",
        "    return a-b\n",
        "# Example:\n",
        "math_ops=MathOperations()\n",
        "print(math_ops.add_numbers(5,3))\n",
        "print(MathOperations.subtract_numbers(10,4))"
      ],
      "metadata": {
        "id": "qKGjTY1vUXqD",
        "colab": {
          "base_uri": "https://localhost:8080/"
        },
        "outputId": "af667a6e-7a9a-4517-f98d-badda908dcd1"
      },
      "execution_count": null,
      "outputs": [
        {
          "output_type": "stream",
          "name": "stdout",
          "text": [
            "8\n",
            "6\n"
          ]
        }
      ]
    },
    {
      "cell_type": "code",
      "source": [
        "#8. Implement a class Person with a class method to count the total number of persons created.\n",
        "class Person:\n",
        "  count=0\n",
        "\n",
        "  def __init__(self,name):\n",
        "   Person.count+=1\n",
        "\n",
        "  @classmethod\n",
        "  def total_persons(cls):\n",
        "   return cls.count\n",
        "# Example:\n",
        "p1=Person(\"Alice\")\n",
        "p2=Person(\"Jack\")\n",
        "p3=Person(\"Som\")\n",
        "print(Person.total_persons())"
      ],
      "metadata": {
        "id": "jrafpCzMUnnp",
        "colab": {
          "base_uri": "https://localhost:8080/"
        },
        "outputId": "f4499894-eb29-4017-db40-398221a1af37"
      },
      "execution_count": null,
      "outputs": [
        {
          "output_type": "stream",
          "name": "stdout",
          "text": [
            "3\n"
          ]
        }
      ]
    },
    {
      "cell_type": "code",
      "source": [
        "#9.  Write a class Fraction with attributes numerator and denominator. Override the str method to display the fraction as \"numerator/denominator\".\n",
        "class Fraction:\n",
        "  def __init__(self,numerator,denominator):\n",
        "    self.numerator=numerator\n",
        "    self.denominator=denominator\n",
        "  def __str__(self):\n",
        "    return f\"{self.numerator}/{self.denominator}\"\n",
        "# Example:\n",
        "fraction=Fraction(3,4)\n",
        "print(fraction)"
      ],
      "metadata": {
        "id": "HER43OAhUw-_",
        "colab": {
          "base_uri": "https://localhost:8080/"
        },
        "outputId": "87e22f2c-2c85-403c-c2d9-fb1c42c7ba2c"
      },
      "execution_count": null,
      "outputs": [
        {
          "output_type": "stream",
          "name": "stdout",
          "text": [
            "3/4\n"
          ]
        }
      ]
    },
    {
      "cell_type": "code",
      "source": [
        "#10. Demonstrate operator overloading by creating a class Vector and overriding the add method to add two vectors.\n",
        "class Vector:\n",
        "  def __init__(self,x,y):\n",
        "    self.x=x\n",
        "    self.y=y\n",
        "  def __add__(self,other):\n",
        "    return Vector(self.x+other.x,self.y+other.y)\n",
        "# Example:\n",
        "v1=Vector(1,2)\n",
        "v2=Vector(3,4)\n",
        "v3=v1+v2\n",
        "print(v3.x,v3.y)\n"
      ],
      "metadata": {
        "id": "fy1zloY8VHWw",
        "colab": {
          "base_uri": "https://localhost:8080/"
        },
        "outputId": "0b1a7cd1-e3a5-4ed8-c024-b72c4bf34471"
      },
      "execution_count": null,
      "outputs": [
        {
          "output_type": "stream",
          "name": "stdout",
          "text": [
            "4 6\n"
          ]
        }
      ]
    },
    {
      "cell_type": "code",
      "source": [
        "#11. Create a class Person with attributes name and age. Add a method greet() that prints \"Hello, my name is {name} and I am {age} years old.\"\n",
        "class Person:\n",
        "  def __init__(self,name,age):\n",
        "   self.name=name\n",
        "   self.age=age\n",
        "  def greet(self):\n",
        "    print (\"Hello, my name is {self.name} and I am {self.age} years old.\")\n",
        "# Example:\n",
        "s=Student(\"Alice\",[90,85,95])\n",
        "print(s.average_grade())"
      ],
      "metadata": {
        "id": "SwH0_4t6VRwO",
        "colab": {
          "base_uri": "https://localhost:8080/"
        },
        "outputId": "6763a20d-9b7e-4594-92f4-82c3925116bb"
      },
      "execution_count": null,
      "outputs": [
        {
          "output_type": "stream",
          "name": "stdout",
          "text": [
            "90.0\n"
          ]
        }
      ]
    },
    {
      "cell_type": "code",
      "source": [
        "#12. Implement a class Student with attributes name and grades. Create a method average_grade() to compute the average of the grades.\n",
        "class Student:\n",
        "  def __init__(self,name,grades):\n",
        "    self.name=name\n",
        "    self.grades=grades\n",
        "  def average_grade(self):\n",
        "    return sum(self.grades)/len(self.grades)\n",
        "# Example:\n",
        "student=Student(\"Alice\",[85,90,78,92])\n",
        "print(student.average_grade())"
      ],
      "metadata": {
        "id": "54RiB6SqViYw",
        "colab": {
          "base_uri": "https://localhost:8080/"
        },
        "outputId": "3fc60cd4-4d7a-4daf-c312-1adea3a2fd34"
      },
      "execution_count": null,
      "outputs": [
        {
          "output_type": "stream",
          "name": "stdout",
          "text": [
            "86.25\n"
          ]
        }
      ]
    },
    {
      "cell_type": "code",
      "source": [
        "#13. Create a class Rectangle with methods set_dimensions() to set the dimensions and area() to calculate the area.\n",
        "class Rectangle:\n",
        "  def __init__(self):\n",
        "    self.length=0\n",
        "    self.width=0\n",
        "  def set_dimensions(self,length,width):\n",
        "    self.length=length\n",
        "    self.width=width\n",
        "  def area(self):\n",
        "    return self.length*self.width\n",
        "# Example:\n",
        "rect=Rectangle()\n",
        "rect.set_dimensions(5,10)\n",
        "print(rect.area())"
      ],
      "metadata": {
        "id": "KaANeB2cVtVD",
        "colab": {
          "base_uri": "https://localhost:8080/"
        },
        "outputId": "83abcb06-1307-4e20-eda1-1be3d5a9d60a"
      },
      "execution_count": null,
      "outputs": [
        {
          "output_type": "stream",
          "name": "stdout",
          "text": [
            "50\n"
          ]
        }
      ]
    },
    {
      "cell_type": "code",
      "source": [
        "#14.Create a class Employee with a method calculate_salary() that computes the salary based on hours worked and hourly rate. Create a derived class Manager that adds a bonus to the salary.\n",
        "class Employee:\n",
        "  def calculate_salary(self,hours_worked,hourly_rate):\n",
        "    return hours_worked*hourly_rate\n",
        "    class Manager(Employee):\n",
        "      def calculate_salary(self,hours_worked,hourly_rate):\n",
        "        base_salary=super().calculate_salary(hours_worked,hourly_rate)\n",
        "        return base_salary+1000\n",
        "# Example:\n",
        "e=Employee()\n",
        "e.calculate_salary(40,10)"
      ],
      "metadata": {
        "colab": {
          "base_uri": "https://localhost:8080/"
        },
        "id": "JKlXiFwtthL3",
        "outputId": "70b76082-cef2-48ef-e231-2e8a3c061d68"
      },
      "execution_count": null,
      "outputs": [
        {
          "output_type": "execute_result",
          "data": {
            "text/plain": [
              "400"
            ]
          },
          "metadata": {},
          "execution_count": 164
        }
      ]
    },
    {
      "cell_type": "code",
      "source": [
        "#15. Create a class Product with attributes name, price, and quantity. Implement a method total_price() that calculates the total price of the product.\n",
        "class Product:\n",
        "  def __init__(self,name,price,quantity):\n",
        "    self.name=name\n",
        "    self.price=price\n",
        "    self.quantity=quantity\n",
        "\n",
        "  def total_price(self):\n",
        "    return self.price*self.quantity\n",
        "# Example:\n",
        "product=Product(\"Laptop\",50000,2)\n",
        "print(product.total_price())"
      ],
      "metadata": {
        "id": "yazkwgjJWNXV",
        "colab": {
          "base_uri": "https://localhost:8080/"
        },
        "outputId": "351550a3-933e-45d2-a6fe-433bd1a60e4b"
      },
      "execution_count": null,
      "outputs": [
        {
          "output_type": "stream",
          "name": "stdout",
          "text": [
            "100000\n"
          ]
        }
      ]
    },
    {
      "cell_type": "code",
      "source": [
        "#16. Create a class Animal with an abstract method sound().Create two derived classes Cow and Sheep that implement the sound() method.\n",
        "from abc import ABC,abstractmethod\n",
        "class Animal(ABC):\n",
        "    @abstractmethod\n",
        "    def sound(self):\n",
        "     pass\n",
        "class Cow(Animal):\n",
        "  def sound(self):\n",
        "    return \"Moo!\"\n",
        "class Sheep(Animal):\n",
        "  def sound(self):\n",
        "    return \"Baa!\"\n",
        "# Example:\n",
        "cow=Cow()\n",
        "sheep=Sheep()\n",
        "print(cow.sound())\n",
        "print(sheep.sound())\n"
      ],
      "metadata": {
        "id": "BS9DSO1CWTwU",
        "colab": {
          "base_uri": "https://localhost:8080/"
        },
        "outputId": "3800939c-2dbf-4826-bb55-ca4a37c62f00"
      },
      "execution_count": null,
      "outputs": [
        {
          "output_type": "stream",
          "name": "stdout",
          "text": [
            "Moo!\n",
            "Baa!\n"
          ]
        }
      ]
    },
    {
      "cell_type": "code",
      "source": [
        "#17. Create a class Book with attributes title, author, and year_published. Add a method get_book_info() that returns a formatted string with the book's details.\n",
        "class Book:\n",
        "  def __init__(self,title,author,year_published):\n",
        "    self.title=title\n",
        "    self.author=author\n",
        "    self.year_published=year_published\n",
        "  def get_book_info(self):\n",
        "    return f\"{self.title} by {self.author} ({self.year_published})\"\n",
        "# Example:\n",
        "book=Book(\"The Great Gatsby\",\"F. Scott Fitzgerald\",1925)\n",
        "print(book.get_book_info())"
      ],
      "metadata": {
        "id": "cmUUe7_tWyYr",
        "colab": {
          "base_uri": "https://localhost:8080/"
        },
        "outputId": "4a54d5d8-0d72-4b08-fae0-e125c97df9da"
      },
      "execution_count": null,
      "outputs": [
        {
          "output_type": "stream",
          "name": "stdout",
          "text": [
            "The Great Gatsby by F. Scott Fitzgerald (1925)\n"
          ]
        }
      ]
    },
    {
      "cell_type": "code",
      "source": [
        "#18. Create a class House with attributes address and price. Create a derived class Mansion that adds an attribute number_of_rooms.\n",
        "class House:\n",
        "  def __init__(self,address,price):\n",
        "    self.address=address\n",
        "    self.price=price\n",
        "class Mansion(House):\n",
        "  def __init__(self,address,price,number_of_rooms):\n",
        "    super().__init__(address,price)\n",
        "    self.number_of_rooms=number_of_rooms\n",
        "# Example:\n",
        "mansion=Mansion(\"123 Main St\",250000,8)\n",
        "print(mansion.address,mansion.price,mansion.number_of_rooms)"
      ],
      "metadata": {
        "id": "o1EO55UJW65a",
        "colab": {
          "base_uri": "https://localhost:8080/"
        },
        "outputId": "045ae459-e91c-46dd-ab30-646e4b5a4e6f"
      },
      "execution_count": null,
      "outputs": [
        {
          "output_type": "stream",
          "name": "stdout",
          "text": [
            "123 Main St 250000 8\n"
          ]
        }
      ]
    }
  ]
}